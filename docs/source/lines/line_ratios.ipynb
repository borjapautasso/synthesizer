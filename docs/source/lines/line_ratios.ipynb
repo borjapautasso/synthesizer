{
 "cells": [
  {
   "cell_type": "markdown",
   "metadata": {},
   "source": [
    "# Line Ratios\n",
    "\n",
    "The ``line_ratios`` module provides some helpful definitions that can be used to simplify calculating line ratios."
   ]
  },
  {
   "cell_type": "code",
   "execution_count": null,
   "metadata": {},
   "outputs": [],
   "source": [
    "import synthesizer.line_ratios as line_ratios\n",
    "\n",
    "print(line_ratios.available_ratios)\n",
    "\n",
    "for ratio in line_ratios.available_ratios:\n",
    "    print(\n",
    "        f\"{ratio} = {line_ratios.ratios[ratio][0]} \"\n",
    "        f\"/ {line_ratios.ratios[ratio][1]}\"\n",
    "    )"
   ]
  },
  {
   "cell_type": "markdown",
   "metadata": {},
   "source": [
    "## Diagnostic Diagrams"
   ]
  },
  {
   "cell_type": "code",
   "execution_count": null,
   "metadata": {},
   "outputs": [],
   "source": [
    "print(line_ratios.available_diagrams)\n",
    "\n",
    "for diagram in line_ratios.available_diagrams:\n",
    "    print(\n",
    "        f\"{diagram} = {line_ratios.diagrams[diagram][0]} \"\n",
    "        f\"/ {line_ratios.diagrams[diagram][1]}\"\n",
    "    )"
   ]
  },
  {
   "cell_type": "markdown",
   "metadata": {},
   "source": [
    "## Line Aliases"
   ]
  },
  {
   "cell_type": "code",
   "execution_count": null,
   "metadata": {},
   "outputs": [],
   "source": [
    "print(line_ratios.aliases)\n",
    "print(line_ratios.Ha)"
   ]
  },
  {
   "cell_type": "markdown",
   "metadata": {},
   "source": [
    "## Using the line_ratios module with a ``LineCollection``\n",
    "\n"
   ]
  },
  {
   "cell_type": "code",
   "execution_count": null,
   "metadata": {},
   "outputs": [],
   "source": [
    "from synthesizer.grid import Grid\n",
    "\n",
    "lines = Grid(\"test_grid\", \"../../../tests/test_grid\").get_lines((1, 8))"
   ]
  },
  {
   "cell_type": "markdown",
   "metadata": {},
   "source": [
    "As shown in the [line collection docs](lines_example.ipynb), we can measure some predefined line ratios by passing the name of a ratio. However, we can now import all line ratios and loop over all pre-defined ratios."
   ]
  },
  {
   "cell_type": "code",
   "execution_count": null,
   "metadata": {},
   "outputs": [],
   "source": [
    "for ratio_id in lines.available_ratios:\n",
    "    ratio = lines.get_ratio(ratio_id)\n",
    "    print(f\"{ratio_id}: {ratio:.2f}\")"
   ]
  },
  {
   "cell_type": "markdown",
   "metadata": {},
   "source": [
    "Similarly, we can also use do same from all the diagnostic diagrams."
   ]
  },
  {
   "cell_type": "code",
   "execution_count": null,
   "metadata": {},
   "outputs": [],
   "source": [
    "for diagram_id in lines.available_diagrams:\n",
    "    diagram0, diagram1 = lines.get_diagram(diagram_id)\n",
    "    print(f\"{diagram_id}: {diagram0:.2f} / {diagram1:.2f}\")"
   ]
  },
  {
   "cell_type": "markdown",
   "metadata": {},
   "source": [
    "For a more interesting example, see the metallicity dependence plots in the [grid lines example](grid_lines.ipynb)."
   ]
  }
 ],
 "metadata": {},
 "nbformat": 4,
 "nbformat_minor": 2
}
