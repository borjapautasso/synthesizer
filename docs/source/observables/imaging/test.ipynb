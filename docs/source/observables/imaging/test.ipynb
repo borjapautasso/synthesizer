{
 "cells": [
  {
   "cell_type": "code",
   "execution_count": null,
   "id": "8b4339f8",
   "metadata": {},
   "outputs": [],
   "source": [
    "import numpy as np\n",
    "from meshmerizer.mesh import voxels_to_stl\n",
    "from meshmerizer.voxels import generate_voxel_grid\n",
    "from swiftsimio import load\n",
    "from unyt import kpc"
   ]
  },
  {
   "cell_type": "code",
   "execution_count": null,
   "id": "6a038b2d",
   "metadata": {},
   "outputs": [],
   "source": [
    "path = (\n",
    "    \"/Users/willroper/Research/Synthesizer/GEAR_demo/data/snapshot_0050.hdf5\"\n",
    ")\n",
    "data = load(path)\n",
    "\n",
    "pmin = 650 * kpc\n",
    "pmax = 700 * kpc\n",
    "\n",
    "print(np.mean(data.gas.coordinates[:, 0]))\n",
    "print(np.mean(data.gas.coordinates[:, 1]))\n",
    "print(np.mean(data.gas.coordinates[:, 2]))\n",
    "\n",
    "xokinds = np.logical_and(\n",
    "    data.gas.coordinates[:, 0] > pmin, data.gas.coordinates[:, 0] < pmax\n",
    ")\n",
    "print(xokinds.sum())\n",
    "yokinds = np.logical_and(\n",
    "    data.gas.coordinates[:, 1] > pmin, data.gas.coordinates[:, 1] < pmax\n",
    ")\n",
    "print(yokinds.sum())\n",
    "zokinds = np.logical_and(\n",
    "    data.gas.coordinates[:, 2] > pmin, data.gas.coordinates[:, 2] < pmax\n",
    ")\n",
    "print(zokinds.sum())\n",
    "inds = np.logical_and(xokinds, yokinds)\n",
    "print(inds.sum())\n",
    "inds = np.logical_and(inds, zokinds)\n",
    "print(inds.sum())\n",
    "\n",
    "pos = data.gas.coordinates[inds, :]\n",
    "masses = data.gas.masses[inds]\n",
    "smoothing_lengths = data.gas.smoothing_lengths[inds]\n",
    "\n",
    "# Create a voxel grid\n",
    "grid = generate_voxel_grid(\n",
    "    masses.value, pos.value, 512, smoothing_lengths.value\n",
    ")"
   ]
  },
  {
   "cell_type": "code",
   "execution_count": null,
   "id": "5847990a",
   "metadata": {},
   "outputs": [],
   "source": [
    "grid.max()"
   ]
  },
  {
   "cell_type": "code",
   "execution_count": null,
   "id": "4cb2af7c",
   "metadata": {},
   "outputs": [],
   "source": [
    "grid[grid > 0].size\n",
    "np.percentile(grid[grid > 0], 99)"
   ]
  },
  {
   "cell_type": "code",
   "execution_count": null,
   "id": "c0416a5e",
   "metadata": {},
   "outputs": [],
   "source": [
    "meshes = voxels_to_stl(grid, 10**-6, 1, True)"
   ]
  },
  {
   "cell_type": "code",
   "execution_count": null,
   "id": "fad51c4a",
   "metadata": {},
   "outputs": [],
   "source": [
    "print(meshes)"
   ]
  },
  {
   "cell_type": "code",
   "execution_count": null,
   "id": "a8b7bc64",
   "metadata": {},
   "outputs": [],
   "source": [
    "meshes[0].save(\"/Users/willroper/Downloads/test.stl\")"
   ]
  }
 ],
 "metadata": {},
 "nbformat": 4,
 "nbformat_minor": 5
}
